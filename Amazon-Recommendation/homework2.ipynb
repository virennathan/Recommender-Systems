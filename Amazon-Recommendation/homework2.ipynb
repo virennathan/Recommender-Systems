{
 "cells": [
  {
   "cell_type": "code",
   "execution_count": 226,
   "id": "d998586d",
   "metadata": {},
   "outputs": [],
   "source": [
    "import random\n",
    "from sklearn import linear_model\n",
    "from sklearn.metrics import accuracy_score\n",
    "from matplotlib import pyplot as plt\n",
    "from collections import defaultdict\n",
    "import gzip\n",
    "import sys\n",
    "from math import e\n",
    "from datetime import datetime"
   ]
  },
  {
   "cell_type": "code",
   "execution_count": 15,
   "id": "f17a95c1",
   "metadata": {},
   "outputs": [],
   "source": [
    "def assertFloat(x):\n",
    "    assert type(float(x)) == float\n",
    "\n",
    "def assertFloatList(items, N):\n",
    "    assert len(items) == N\n",
    "    assert [type(float(x)) for x in items] == [float]*N"
   ]
  },
  {
   "cell_type": "code",
   "execution_count": 16,
   "id": "4a87f98f-715c-4bc5-9b06-ac92e1ad7a22",
   "metadata": {},
   "outputs": [],
   "source": [
    "answers = {}"
   ]
  },
  {
   "cell_type": "code",
   "execution_count": 17,
   "id": "a851f13d-134a-4ce4-8bd2-df5f606ac9dd",
   "metadata": {},
   "outputs": [],
   "source": [
    "def parseData(fname):\n",
    "    for l in open(fname):\n",
    "        yield eval(l)"
   ]
  },
  {
   "cell_type": "code",
   "execution_count": 18,
   "id": "ba796d3e-294d-403c-8b81-b3f4a85523d4",
   "metadata": {},
   "outputs": [],
   "source": [
    "data = list(parseData(\"beer_50000.json\"))"
   ]
  },
  {
   "cell_type": "code",
   "execution_count": 19,
   "id": "6100b434-b50d-4dff-b986-61ce07aa6a39",
   "metadata": {},
   "outputs": [],
   "source": [
    "random.seed(0)\n",
    "random.shuffle(data)"
   ]
  },
  {
   "cell_type": "code",
   "execution_count": 20,
   "id": "a6e9582d-279e-4a0d-bcad-e85018bd4ffb",
   "metadata": {},
   "outputs": [],
   "source": [
    "dataTrain = data[:25000]\n",
    "dataValid = data[25000:37500]\n",
    "dataTest = data[37500:]"
   ]
  },
  {
   "cell_type": "code",
   "execution_count": 21,
   "id": "d3b17174-8ad6-4a98-ac3f-1a431c730cfd",
   "metadata": {},
   "outputs": [],
   "source": [
    "yTrain = [d['beer/ABV'] > 7 for d in dataTrain]\n",
    "yValid = [d['beer/ABV'] > 7 for d in dataValid]\n",
    "yTest = [d['beer/ABV'] > 7 for d in dataTest]"
   ]
  },
  {
   "cell_type": "code",
   "execution_count": 39,
   "id": "9c3c2547-047d-4e15-ac5d-4abe64a91a6a",
   "metadata": {},
   "outputs": [],
   "source": [
    "max_review_len = 0\n",
    "for d in dataTrain:\n",
    "    max_review_len = max(max_review_len, len(d['review/text']))"
   ]
  },
  {
   "cell_type": "code",
   "execution_count": 22,
   "id": "a7712018-f883-4a4c-9ba0-9ae9287c6b31",
   "metadata": {},
   "outputs": [],
   "source": [
    "categoryCounts = defaultdict(int)\n",
    "max_len = 0\n",
    "for d in data:\n",
    "    categoryCounts[d['beer/style']] += 1"
   ]
  },
  {
   "cell_type": "code",
   "execution_count": 23,
   "id": "e82da2c2-43a6-4269-87a3-5fd5ef92f3b0",
   "metadata": {},
   "outputs": [],
   "source": [
    "categories = [c for c in categoryCounts if categoryCounts[c] > 1000]"
   ]
  },
  {
   "cell_type": "code",
   "execution_count": 24,
   "id": "1c838c5c-6c59-4049-8201-68c376dd4295",
   "metadata": {},
   "outputs": [],
   "source": [
    "catID = dict(zip(list(categories),range(len(categories))))"
   ]
  },
  {
   "cell_type": "code",
   "execution_count": 25,
   "id": "b7bbafdd-9c35-4b24-8d7c-1474430bcb06",
   "metadata": {},
   "outputs": [
    {
     "name": "stdout",
     "output_type": "stream",
     "text": [
      "{'American Porter': 0, 'Fruit / Vegetable Beer': 1, 'English Pale Ale': 2, 'Rauchbier': 3, 'American Pale Ale (APA)': 4, 'Scotch Ale / Wee Heavy': 5, 'American IPA': 6, 'Old Ale': 7, 'American Double / Imperial IPA': 8, 'American Double / Imperial Stout': 9, 'Czech Pilsener': 10, 'Rye Beer': 11, 'Russian Imperial Stout': 12}\n"
     ]
    }
   ],
   "source": [
    "print(catID)"
   ]
  },
  {
   "cell_type": "code",
   "execution_count": 45,
   "id": "7dbd03fa-5329-405f-9023-7690f9a45c86",
   "metadata": {},
   "outputs": [],
   "source": [
    "def feat(d, includeCat = True, includeReview = True, includeLength = True):\n",
    "    feats = []\n",
    "    if includeCat:\n",
    "        feats += [0] * len(catID)\n",
    "        if d['beer/style'] in catID: feats[catID[d['beer/style']]] = 1\n",
    "    \n",
    "    if includeReview:\n",
    "        feats += [d['review/appearance'], d['review/aroma'], d['review/overall'], d['review/palate'], d['review/taste']]\n",
    "\n",
    "    if includeLength:\n",
    "        feats += [len(d['review/text']) / max_review_len]\n",
    "        \n",
    "    return feats"
   ]
  },
  {
   "cell_type": "code",
   "execution_count": 243,
   "id": "8f8b3562-5ca9-4648-855c-7b597273b25f",
   "metadata": {},
   "outputs": [],
   "source": [
    "def pipeline(reg, includeCat = True, includeReview = True, includeLength = True, max_iter = 100):\n",
    "    xTrain = [feat(d, includeCat=includeCat, includeReview=includeReview, includeLength=includeLength) for d in dataTrain]\n",
    "    xValid = [feat(d, includeCat=includeCat, includeReview=includeReview, includeLength=includeLength) for d in dataValid]\n",
    "    xTest = [feat(d, includeCat=includeCat, includeReview=includeReview, includeLength=includeLength) for d in dataTest]\n",
    "    model = linear_model.LogisticRegression(C=reg, class_weight='balanced', max_iter=max_iter)\n",
    "    model.fit(xTrain, yTrain)\n",
    "\n",
    "    y_pred_valid = model.predict(xValid)\n",
    "    y_pred_test = model.predict(xTest)\n",
    "\n",
    "    ber_valid = sum(yValid != y_pred_valid) / len(yValid)\n",
    "    ber_test = sum(yTest != y_pred_test) / len(yTest)\n",
    "\n",
    "    return model, ber_valid, ber_test\n",
    "    "
   ]
  },
  {
   "cell_type": "code",
   "execution_count": 32,
   "id": "14486a0e-c501-4988-abb5-ab70c1cd3e66",
   "metadata": {},
   "outputs": [],
   "source": [
    "### Question 1"
   ]
  },
  {
   "cell_type": "code",
   "execution_count": 33,
   "id": "900cb7ce-fb76-401d-a95e-66053bed0445",
   "metadata": {},
   "outputs": [],
   "source": [
    "mod, validBER, testBER = pipeline(10, True, False, False)"
   ]
  },
  {
   "cell_type": "code",
   "execution_count": 34,
   "id": "cf2571b3-6999-4714-a4aa-62dab31937bb",
   "metadata": {},
   "outputs": [],
   "source": [
    "answers['Q1'] = [validBER, testBER]"
   ]
  },
  {
   "cell_type": "code",
   "execution_count": 35,
   "id": "f899b683-3a9c-4f65-9167-54938589f12c",
   "metadata": {},
   "outputs": [],
   "source": [
    "assertFloatList(answers['Q1'], 2)"
   ]
  },
  {
   "cell_type": "code",
   "execution_count": 43,
   "id": "a5724e91-cbd9-4e44-8a20-7a8cc350c1a4",
   "metadata": {},
   "outputs": [],
   "source": [
    "### Question 2"
   ]
  },
  {
   "cell_type": "code",
   "execution_count": 62,
   "id": "f707bfa2-cdd6-43fd-8bff-724e1a28f185",
   "metadata": {},
   "outputs": [],
   "source": [
    "mod, validBER, testBER = pipeline(10, True, True, True, 500)"
   ]
  },
  {
   "cell_type": "code",
   "execution_count": 51,
   "id": "23daba7d-3f75-4d50-b393-34992f4710cc",
   "metadata": {},
   "outputs": [],
   "source": [
    "answers['Q2'] = [validBER, testBER]"
   ]
  },
  {
   "cell_type": "code",
   "execution_count": 52,
   "id": "ecb8d0b4-d4c8-4419-a7c1-febb78fd44f5",
   "metadata": {},
   "outputs": [],
   "source": [
    "assertFloatList(answers['Q2'], 2)"
   ]
  },
  {
   "cell_type": "code",
   "execution_count": 54,
   "id": "6e65d346-5020-429b-90ed-4d52d7c97b4f",
   "metadata": {},
   "outputs": [],
   "source": [
    "### Question 3"
   ]
  },
  {
   "cell_type": "code",
   "execution_count": 63,
   "id": "c97f0b41-0914-4649-984f-252e03ff9b08",
   "metadata": {},
   "outputs": [],
   "source": [
    "lowest_ber = sys.maxsize\n",
    "bestC = -1\n",
    "for c in [0.001, 0.01, 0.1, 1, 10]:\n",
    "    mod, validBER, testBER = pipeline(c, True, True, True, 500)\n",
    "    if validBER < lowest_ber: bestC = c"
   ]
  },
  {
   "cell_type": "code",
   "execution_count": 64,
   "id": "06ae5223-330b-42f0-bce3-66fe2526e126",
   "metadata": {},
   "outputs": [],
   "source": [
    "mod, validBER, testBER = pipeline(bestC, True, True, True, 500)"
   ]
  },
  {
   "cell_type": "code",
   "execution_count": 59,
   "id": "812e0e27-424f-4389-9a65-d19d470910cd",
   "metadata": {},
   "outputs": [],
   "source": [
    "answers['Q3'] = [bestC, validBER, testBER]"
   ]
  },
  {
   "cell_type": "code",
   "execution_count": 60,
   "id": "362bb32f-f81e-4f3e-9c8b-24b6beeee794",
   "metadata": {},
   "outputs": [],
   "source": [
    "assertFloatList(answers['Q3'], 3)"
   ]
  },
  {
   "cell_type": "code",
   "execution_count": 66,
   "id": "6e31986b-646d-4bac-b578-517c6f2c02b9",
   "metadata": {},
   "outputs": [],
   "source": [
    "### Question 4"
   ]
  },
  {
   "cell_type": "code",
   "execution_count": 67,
   "id": "e13dfbba-c13e-4e60-b243-6f7145096dd8",
   "metadata": {},
   "outputs": [],
   "source": [
    "mod, validBER, testBER_noCat = pipeline(1, False, True, True, 500)"
   ]
  },
  {
   "cell_type": "code",
   "execution_count": 68,
   "id": "d2c4f168-c3e6-4d1c-ad39-7804ff5a1a5f",
   "metadata": {},
   "outputs": [],
   "source": [
    "mod, validBER, testBER_noReview = pipeline(1, True, False, True, 500)"
   ]
  },
  {
   "cell_type": "code",
   "execution_count": 69,
   "id": "bc7c86a0-2e6a-48bc-828a-8b805786a41d",
   "metadata": {},
   "outputs": [],
   "source": [
    "mod, validBER, testBER_noLength = pipeline(1, True, True, False, 500)"
   ]
  },
  {
   "cell_type": "code",
   "execution_count": 70,
   "id": "b3f5794b-10c9-41b3-bbf4-05b346fffcfb",
   "metadata": {},
   "outputs": [],
   "source": [
    "answers['Q4'] = [testBER_noCat, testBER_noReview, testBER_noLength]"
   ]
  },
  {
   "cell_type": "code",
   "execution_count": 71,
   "id": "0c3a712d-90cd-4a67-afe1-cca63b84e498",
   "metadata": {},
   "outputs": [],
   "source": [
    "assertFloatList(answers['Q4'], 3)"
   ]
  },
  {
   "cell_type": "code",
   "execution_count": 73,
   "id": "614e7747-143a-43e5-a0bd-1709c3bc4b50",
   "metadata": {},
   "outputs": [],
   "source": [
    "### Question 5"
   ]
  },
  {
   "cell_type": "code",
   "execution_count": 130,
   "id": "fe681798-bbd6-4d9b-ae30-f1431b9bebaf",
   "metadata": {},
   "outputs": [],
   "source": [
    "path = \"amazon_reviews_us_Musical_Instruments_v1_00.tsv\"\n",
    "f = open(path, 'rt', encoding=\"utf8\")\n",
    "\n",
    "header = f.readline()\n",
    "header = header.strip().split('\\t')"
   ]
  },
  {
   "cell_type": "code",
   "execution_count": 131,
   "id": "36a79b1c-a4bf-4e5d-bc5d-e5e9bfd333f3",
   "metadata": {},
   "outputs": [
    {
     "data": {
      "text/plain": [
       "['marketplace',\n",
       " 'customer_id',\n",
       " 'review_id',\n",
       " 'product_id',\n",
       " 'product_parent',\n",
       " 'product_title',\n",
       " 'product_category',\n",
       " 'star_rating',\n",
       " 'helpful_votes',\n",
       " 'total_votes',\n",
       " 'vine',\n",
       " 'verified_purchase',\n",
       " 'review_headline',\n",
       " 'review_body',\n",
       " 'review_date']"
      ]
     },
     "execution_count": 131,
     "metadata": {},
     "output_type": "execute_result"
    }
   ],
   "source": [
    "header"
   ]
  },
  {
   "cell_type": "code",
   "execution_count": 132,
   "id": "01c5fd53-ddd9-4f65-b602-f33dcd411ab2",
   "metadata": {},
   "outputs": [
    {
     "name": "stdout",
     "output_type": "stream",
     "text": [
      "Skipping duplicate user/item: ('46953315', 'B00QM3CNN6')\n",
      "Skipping duplicate user/item: ('31616428', 'B0026RB0G8')\n",
      "Skipping duplicate user/item: ('47240912', 'B008I653SC')\n",
      "Skipping duplicate user/item: ('14503091', 'B003FRMRC4')\n",
      "Skipping duplicate user/item: ('38538360', 'B00HVLUR86')\n",
      "Skipping duplicate user/item: ('43448024', 'B00HVLUR86')\n",
      "Skipping duplicate user/item: ('51525270', 'B00HVLUR86')\n",
      "Skipping duplicate user/item: ('20652160', 'B004OU2IQG')\n",
      "Skipping duplicate user/item: ('10964440', 'B00HVLUR86')\n",
      "Skipping duplicate user/item: ('20043677', 'B00HVLUR86')\n",
      "Skipping duplicate user/item: ('44796499', 'B00HVLUSGM')\n",
      "Skipping duplicate user/item: ('29066899', 'B0002CZSYO')\n",
      "Skipping duplicate user/item: ('10385056', 'B004OU2IQG')\n",
      "Skipping duplicate user/item: ('1658551', 'B00HVLURL8')\n",
      "Skipping duplicate user/item: ('907433', 'B00N9Q2E5G')\n",
      "Skipping duplicate user/item: ('39412969', 'B00HVLUR86')\n",
      "Skipping duplicate user/item: ('4901688', 'B00HVLUR86')\n",
      "Skipping duplicate user/item: ('23458093', 'B005CX4GLE')\n",
      "Skipping duplicate user/item: ('38515272', 'B00HVLUSGM')\n",
      "Skipping duplicate user/item: ('11577442', 'B004OU2IQG')\n",
      "Skipping duplicate user/item: ('33123229', 'B0002CZSZ8')\n",
      "Skipping duplicate user/item: ('1473221', 'B00HVLURL8')\n",
      "Skipping duplicate user/item: ('1473221', 'B004OU2IQG')\n",
      "Skipping duplicate user/item: ('1658551', 'B004OU2IQG')\n",
      "Skipping duplicate user/item: ('43576831', 'B00MUFJXTM')\n",
      "Skipping duplicate user/item: ('31983516', 'B00HVLUR86')\n",
      "Skipping duplicate user/item: ('14312454', 'B004OU2IQG')\n",
      "Skipping duplicate user/item: ('30290991', 'B004OU2IQG')\n",
      "Skipping duplicate user/item: ('2714455', 'B003VWKPHC')\n",
      "Skipping duplicate user/item: ('19347026', 'B00B9QONQQ')\n",
      "Skipping duplicate user/item: ('44303814', 'B00HVLUSGM')\n",
      "Skipping duplicate user/item: ('7586067', 'B0002D0A82')\n",
      "Skipping duplicate user/item: ('45224935', 'B00NICSAVI')\n",
      "Skipping duplicate user/item: ('15394678', 'B00LTZTPJM')\n",
      "Skipping duplicate user/item: ('13593540', 'B0002D0CK8')\n",
      "Skipping duplicate user/item: ('4032226', 'B000BKJPQY')\n",
      "Skipping duplicate user/item: ('22561437', 'B003VWKPHC')\n",
      "Skipping duplicate user/item: ('14945376', 'B00HVLUSGM')\n",
      "Skipping duplicate user/item: ('12738423', 'B000068O3T')\n",
      "Skipping duplicate user/item: ('7081001', 'B0098VHUEG')\n",
      "Skipping duplicate user/item: ('41554871', 'B005VLWHP4')\n",
      "Skipping duplicate user/item: ('25881037', 'B003OG9NH8')\n",
      "Skipping duplicate user/item: ('52621298', 'B000A6ASSS')\n",
      "Skipping duplicate user/item: ('10125876', 'B008U1P9QG')\n",
      "Skipping duplicate user/item: ('50181160', 'B0002E3FBA')\n",
      "Skipping duplicate user/item: ('44622391', 'B003OT9N48')\n",
      "Skipping duplicate user/item: ('48408803', 'B00HVLUR86')\n",
      "Skipping duplicate user/item: ('1976244', 'B0010CP5DY')\n",
      "Skipping duplicate user/item: ('1753779', 'B0002CZVU0')\n",
      "Skipping duplicate user/item: ('17036027', 'B00267QD8S')\n",
      "Skipping duplicate user/item: ('7472528', 'B00646MZHK')\n",
      "Skipping duplicate user/item: ('26003848', 'B00CICPN0K')\n",
      "Skipping duplicate user/item: ('27819775', 'B003BNZHSI')\n",
      "Skipping duplicate user/item: ('13011180', 'B006RJRBY6')\n",
      "Skipping duplicate user/item: ('50079991', 'B0002F5544')\n",
      "Skipping duplicate user/item: ('15398248', 'B0032BYCWG')\n",
      "Skipping duplicate user/item: ('32786226', 'B003FRMRC4')\n",
      "Skipping duplicate user/item: ('47300481', 'B004Z17008')\n",
      "Skipping duplicate user/item: ('36336335', 'B002MAKE98')\n",
      "Skipping duplicate user/item: ('25504145', 'B005CX4GLE')\n",
      "Skipping duplicate user/item: ('25189829', 'B003VWJ2K8')\n",
      "Skipping duplicate user/item: ('16333305', 'B002MAMCIE')\n",
      "Skipping duplicate user/item: ('5095315', 'B003VWKPHC')\n",
      "Skipping duplicate user/item: ('19017131', 'B0002D0A7S')\n",
      "Skipping duplicate user/item: ('11330459', 'B003VWJ2K8')\n",
      "Skipping duplicate user/item: ('48076283', 'B0002D09Q0')\n",
      "Skipping duplicate user/item: ('31588426', 'B005NACC6M')\n",
      "Skipping duplicate user/item: ('35281019', 'B00646MZHK')\n",
      "Skipping duplicate user/item: ('9878929', 'B0057OIUW4')\n",
      "Skipping duplicate user/item: ('48005643', 'B003QGPCTE')\n",
      "Skipping duplicate user/item: ('49974033', 'B0002FOBJY')\n",
      "Skipping duplicate user/item: ('13906387', 'B005NACC6M')\n",
      "Skipping duplicate user/item: ('12746123', 'B005NACC6M')\n",
      "Skipping duplicate user/item: ('14064980', 'B00ALR3XH4')\n",
      "Skipping duplicate user/item: ('20797342', 'B00ATP5KF6')\n",
      "Skipping duplicate user/item: ('32368781', 'B001BM4PTI')\n",
      "Skipping duplicate user/item: ('21145462', 'B003VWJ2K8')\n",
      "Skipping duplicate user/item: ('16420980', 'B007I0EGGO')\n",
      "Skipping duplicate user/item: ('45432948', 'B003PEU5SK')\n",
      "Skipping duplicate user/item: ('13174036', 'B006RJRBY6')\n",
      "Skipping duplicate user/item: ('14812308', 'B0029PONJS')\n",
      "Skipping duplicate user/item: ('52428106', 'B000Y010WS')\n",
      "Skipping duplicate user/item: ('52896636', 'B003AYLJXU')\n",
      "Skipping duplicate user/item: ('23539660', 'B0002E518U')\n",
      "Skipping duplicate user/item: ('25740618', 'B004ZL3AEI')\n",
      "Skipping duplicate user/item: ('25740618', 'B0006SE59S')\n",
      "Skipping duplicate user/item: ('12922606', 'B000065BP9')\n",
      "Skipping duplicate user/item: ('24873662', 'B0002M6AC8')\n",
      "Skipping duplicate user/item: ('52256186', 'B0002GY7KQ')\n",
      "Skipping duplicate user/item: ('18342171', 'B0002H0OCA')\n",
      "Skipping duplicate user/item: ('49600435', 'B0002F7JPC')\n",
      "Skipping duplicate user/item: ('52390258', 'B0006HY5PI')\n",
      "Skipping duplicate user/item: ('17281475', 'B00008MIGG')\n",
      "Skipping duplicate user/item: ('32535778', 'B0000DH7IT')\n",
      "Skipping duplicate user/item: ('29480926', 'B0000TFYK2')\n",
      "Skipping duplicate user/item: ('26926367', 'B00007CWI7')\n",
      "Skipping duplicate user/item: ('26926367', 'B00007CWI7')\n",
      "Skipping duplicate user/item: ('30727166', 'B00002MZ8M')\n",
      "Skipping duplicate user/item: ('50944807', 'B00006AMBW')\n",
      "Skipping duplicate user/item: ('50944807', 'B00006AMBW')\n",
      "Skipping duplicate user/item: ('50072613', 'B00005BMSN')\n",
      "Skipping duplicate user/item: ('36831311', 'B00005OWCU')\n",
      "Skipping duplicate user/item: ('33924930', 'B00005K9CI')\n",
      "Skipping duplicate user/item: ('35957274', 'B00005BWSN')\n",
      "Skipping duplicate user/item: ('52056770', 'B000062UI4')\n",
      "Skipping duplicate user/item: ('40818529', 'B00006L57W')\n",
      "Skipping duplicate user/item: ('38182161', 'B00005S8KM')\n",
      "Skipping duplicate user/item: ('39289364', 'B00004SY4H')\n",
      "Skipping duplicate user/item: ('50683331', 'B00005S8KM')\n",
      "Skipping duplicate user/item: ('39430726', 'B00004YUWT')\n",
      "Skipping duplicate user/item: ('41535371', 'B00002F2IZ')\n",
      "Skipping duplicate user/item: ('41535371', 'B00002F2IZ')\n",
      "Skipping duplicate user/item: ('48686420', 'B00004YAHE')\n",
      "Skipping duplicate user/item: ('50707323', 'B00005OQMY')\n",
      "Skipping duplicate user/item: ('46322021', 'B00005K9DX')\n",
      "Skipping duplicate user/item: ('52835176', 'B00002F2IZ')\n",
      "Skipping duplicate user/item: ('47736173', 'B00004YUWT')\n",
      "Skipping duplicate user/item: ('49350719', 'B00002DDSF')\n"
     ]
    }
   ],
   "source": [
    "dataset = []\n",
    "\n",
    "pairsSeen = set()\n",
    "\n",
    "for line in f:\n",
    "    fields = line.strip().split('\\t')\n",
    "    d = dict(zip(header, fields))\n",
    "    ui = (d['customer_id'], d['product_id'])\n",
    "    if ui in pairsSeen:\n",
    "        print(\"Skipping duplicate user/item:\", ui)\n",
    "        continue\n",
    "    pairsSeen.add(ui)\n",
    "    d['star_rating'] = int(d['star_rating'])\n",
    "    d['helpful_votes'] = int(d['helpful_votes'])\n",
    "    d['total_votes'] = int(d['total_votes'])\n",
    "    dataset.append(d)"
   ]
  },
  {
   "cell_type": "code",
   "execution_count": 159,
   "id": "1d3c0175-41bc-4267-be22-0dd98136345a",
   "metadata": {},
   "outputs": [],
   "source": [
    "dataTrain = dataset[:int(len(dataset)*0.9)]\n",
    "dataTest = dataset[int(len(dataset)*0.9):]"
   ]
  },
  {
   "cell_type": "code",
   "execution_count": 160,
   "id": "f3440cf1-2366-4d69-a4ae-a8ca5e2ea9f5",
   "metadata": {},
   "outputs": [],
   "source": [
    "# Feel free to keep or discard\n",
    "\n",
    "usersPerItem = defaultdict(set) # Maps an item to the users who rated it\n",
    "itemsPerUser = defaultdict(set) # Maps a user to the items that they rated\n",
    "itemNames = {}\n",
    "ratingDict = {} # To retrieve a rating for a specific user/item pair\n",
    "reviewsPerUser = defaultdict(list)\n",
    "\n",
    "for d in dataTrain:\n",
    "    user,item = d['customer_id'], d['product_id']\n",
    "    usersPerItem[item].add(user)\n",
    "    itemsPerUser[user].add(item)\n",
    "    reviewsPerUser[user].append(d)\n",
    "\n",
    "for d in dataset:\n",
    "    user,item = d['customer_id'], d['product_id']\n",
    "    ratingDict[(user,item)] = d['star_rating']\n",
    "    itemNames[item] = d['product_title']"
   ]
  },
  {
   "cell_type": "code",
   "execution_count": 161,
   "id": "62880122-0f22-43c6-afca-fdc9699e97f4",
   "metadata": {},
   "outputs": [],
   "source": [
    "userAverages = {u: sum([ratingDict[(u,i)] for i in itemsPerUser[u]]) / len(itemsPerUser[u]) for u in itemsPerUser}\n",
    "itemAverages = {i: sum([ratingDict[(u,i)] for u in usersPerItem[i]]) / len(usersPerItem[i]) for i in usersPerItem}\n",
    "\n",
    "ratingMean = sum([d['star_rating'] for d in dataTrain]) / len(dataTrain)"
   ]
  },
  {
   "cell_type": "code",
   "execution_count": 162,
   "id": "9415da7b-4a56-4093-a5bd-eea40d99e3f7",
   "metadata": {},
   "outputs": [],
   "source": [
    "def Jaccard(s1, s2):\n",
    "    numer = len(s1.intersection(s2))\n",
    "    denom = len(s1.union(s2))\n",
    "    if denom == 0: return 0\n",
    "    return numer / denom"
   ]
  },
  {
   "cell_type": "code",
   "execution_count": 163,
   "id": "83816a03-6c51-4d1d-ae08-9490d4d38b70",
   "metadata": {},
   "outputs": [],
   "source": [
    "def mostSimilar(i, N):\n",
    "    similarities = []\n",
    "    users = usersPerItem[i]\n",
    "    for j in usersPerItem:\n",
    "        if i == j: continue\n",
    "        sim = Jaccard(users, usersPerItem[j])\n",
    "        similarities.append((sim, j))\n",
    "    similarities.sort(reverse=True)\n",
    "    return similarities[:N]"
   ]
  },
  {
   "cell_type": "code",
   "execution_count": 164,
   "id": "5680865b-5249-4834-b019-3628857510a5",
   "metadata": {},
   "outputs": [],
   "source": [
    "query = 'B00KCHRKD6'"
   ]
  },
  {
   "cell_type": "code",
   "execution_count": 165,
   "id": "38b430ca-4e4b-4a1e-b38c-2a1c448dbdef",
   "metadata": {},
   "outputs": [],
   "source": [
    "ms = mostSimilar(query, 10)"
   ]
  },
  {
   "cell_type": "code",
   "execution_count": 166,
   "id": "2b8d21ce-2cec-460f-bbdf-e943a9cbed6a",
   "metadata": {},
   "outputs": [],
   "source": [
    "answers['Q5'] = ms"
   ]
  },
  {
   "cell_type": "code",
   "execution_count": 167,
   "id": "57b7fb52-248a-4d11-a924-b8744aecd7a1",
   "metadata": {},
   "outputs": [],
   "source": [
    "assertFloatList([m[0] for m in ms], 10)"
   ]
  },
  {
   "cell_type": "code",
   "execution_count": 168,
   "id": "1e6fe1df-9464-4dc9-a58e-b6b1a6168803",
   "metadata": {},
   "outputs": [],
   "source": [
    "### Question 6"
   ]
  },
  {
   "cell_type": "code",
   "execution_count": 169,
   "id": "fe6c50d2-22b2-44cb-b29b-e08ac999d947",
   "metadata": {},
   "outputs": [],
   "source": [
    "def MSE(y, ypred):\n",
    "    return sum([(y[i] - ypred[i])**2 for i in range(len(y))]) / len(y)"
   ]
  },
  {
   "cell_type": "code",
   "execution_count": 214,
   "id": "4247a1f0-189d-44d3-80c4-a21669673f90",
   "metadata": {},
   "outputs": [],
   "source": [
    "def predictRating(user,item):\n",
    "    ratings = []\n",
    "    similarities = []\n",
    "    for d in reviewsPerUser[user]:\n",
    "        i2 = d['product_id']\n",
    "        if i2 == item: continue\n",
    "        ratings.append(d['star_rating'] - itemAverages[i2])\n",
    "        similarities.append(Jaccard(usersPerItem[item], usersPerItem[i2]))\n",
    "    if sum(similarities) > 0:\n",
    "        weightedRatings = [(x*y) for x, y in zip(ratings, similarities)]\n",
    "        return itemAverages[item] + sum(weightedRatings) / sum(similarities)\n",
    "    else:\n",
    "        if item in itemAverages: \n",
    "            return itemAverages[item]\n",
    "        else: \n",
    "            return ratingMean"
   ]
  },
  {
   "cell_type": "code",
   "execution_count": 215,
   "id": "242de977-3b55-4ffb-9300-5f0cc8c30424",
   "metadata": {},
   "outputs": [],
   "source": [
    "alwaysPredictMean = [ratingMean] * len(dataTest)"
   ]
  },
  {
   "cell_type": "code",
   "execution_count": 216,
   "id": "6dd35154-0402-44ee-be29-cab6699c2f1a",
   "metadata": {},
   "outputs": [],
   "source": [
    "simPredictions = [predictRating(d['customer_id'], d['product_id']) for d in dataTest]"
   ]
  },
  {
   "cell_type": "code",
   "execution_count": 217,
   "id": "003fa11f-0c3a-4af2-80f1-d400863c067d",
   "metadata": {},
   "outputs": [],
   "source": [
    "labels = [d['star_rating'] for d in dataTest]"
   ]
  },
  {
   "cell_type": "code",
   "execution_count": 218,
   "id": "209333fb-2e1f-422c-8e7f-e8815424f023",
   "metadata": {},
   "outputs": [
    {
     "name": "stdout",
     "output_type": "stream",
     "text": [
      "1.7165666373341593\n",
      "1.6236571809194997\n"
     ]
    }
   ],
   "source": [
    "print(MSE(simPredictions, labels))\n",
    "print(MSE(alwaysPredictMean, labels))"
   ]
  },
  {
   "cell_type": "code",
   "execution_count": 219,
   "id": "31e6735d-4e79-4584-adfa-4c4497a84a4a",
   "metadata": {},
   "outputs": [],
   "source": [
    "answers['Q6'] = MSE(simPredictions, labels)"
   ]
  },
  {
   "cell_type": "code",
   "execution_count": 212,
   "id": "01b6b0eb-575c-4d4f-8a2a-8fefafe873f9",
   "metadata": {},
   "outputs": [],
   "source": [
    "assertFloat(answers['Q6'])"
   ]
  },
  {
   "cell_type": "code",
   "execution_count": 244,
   "id": "5268ae3a-b7b9-4b52-ba37-6d6363261396",
   "metadata": {},
   "outputs": [],
   "source": [
    "### Question 7"
   ]
  },
  {
   "cell_type": "code",
   "execution_count": 237,
   "id": "81dc3028-770b-4741-abf9-789205c07eb7",
   "metadata": {},
   "outputs": [
    {
     "name": "stdout",
     "output_type": "stream",
     "text": [
      "1.6993689339769356\n"
     ]
    }
   ],
   "source": [
    "def decay(l, t1, t2):\n",
    "    t1_unix = datetime.strptime(t1, '%Y-%m-%d').timestamp()\n",
    "    t2_unix = datetime.strptime(t2, '%Y-%m-%d').timestamp()\n",
    "    t_diff = abs(t2_unix - t1_unix)\n",
    "    return e ** (-l * t_diff)\n",
    "\n",
    "def predictRating(user, item, time):\n",
    "    ratings = []\n",
    "    similarities = []\n",
    "    decays = []\n",
    "    for d in reviewsPerUser[user]:\n",
    "        i2 = d['product_id']\n",
    "        if i2 == item: continue\n",
    "        ratings.append(d['star_rating'] - itemAverages[i2])\n",
    "        similarities.append(Jaccard(usersPerItem[item], usersPerItem[i2]))\n",
    "        decays.append(decay(1, d['review_date'], time))\n",
    "    if sum(similarities) > 0:\n",
    "        weightedRatings = [(x*y*z) for x, y, z in zip(ratings, similarities, decays)]\n",
    "        return itemAverages[item] + sum(weightedRatings) / sum(similarities)\n",
    "    else:\n",
    "        if item in itemAverages: \n",
    "            return itemAverages[item]\n",
    "        else: \n",
    "            return ratingMean\n",
    "\n",
    "decayPredictions = [predictRating(d['customer_id'], d['product_id'], d['review_date']) for d in dataTest]\n",
    "itsMSE = MSE(decayPredictions, labels)\n",
    "print(itsMSE)"
   ]
  },
  {
   "cell_type": "code",
   "execution_count": 240,
   "id": "5bd20307-5913-46d5-930d-53caf359f685",
   "metadata": {},
   "outputs": [],
   "source": [
    "answers['Q7'] = [\"The heuristic behind the decay function is that reviews made closer in time to that of the target item (argument passed into predictRating) will be \\\n",
    "                  more indicitive of the correct rating. Some factors that could lead to this are consumer preferences changing over time, products iterating and \\\n",
    "                  improving over time, or to simply filter out older reviews that could introduce irrelevancies/noise in our prediction. I decided to go with the \\\n",
    "                  f(abs(t_u,i - t_u,j)) decay function. Applying this function as shown in the equation on the homework doc, I was able to slightly reduce the MSE \\\n",
    "                  over the trivial decay function (Question 6 MSE)\", itsMSE]"
   ]
  },
  {
   "cell_type": "code",
   "execution_count": 241,
   "id": "98c31bb6-e8f8-4f9f-ac15-2e120f24613d",
   "metadata": {},
   "outputs": [],
   "source": [
    "assertFloat(answers['Q7'][1])"
   ]
  },
  {
   "cell_type": "code",
   "execution_count": 242,
   "id": "a9cdbf74",
   "metadata": {},
   "outputs": [],
   "source": [
    "f = open(\"answers_hw2.txt\", 'w')\n",
    "f.write(str(answers) + '\\n')\n",
    "f.close()"
   ]
  },
  {
   "cell_type": "code",
   "execution_count": null,
   "id": "2ec77684-ccf1-4f77-abd4-526d42fb4e35",
   "metadata": {},
   "outputs": [],
   "source": []
  }
 ],
 "metadata": {
  "kernelspec": {
   "display_name": "Python 3 (ipykernel)",
   "language": "python",
   "name": "python3"
  },
  "language_info": {
   "codemirror_mode": {
    "name": "ipython",
    "version": 3
   },
   "file_extension": ".py",
   "mimetype": "text/x-python",
   "name": "python",
   "nbconvert_exporter": "python",
   "pygments_lexer": "ipython3",
   "version": "3.10.9"
  }
 },
 "nbformat": 4,
 "nbformat_minor": 5
}
