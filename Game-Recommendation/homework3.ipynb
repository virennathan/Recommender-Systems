{
 "cells": [
  {
   "cell_type": "code",
   "execution_count": 720,
   "id": "0f55c023",
   "metadata": {},
   "outputs": [],
   "source": [
    "import gzip\n",
    "from collections import defaultdict\n",
    "import math\n",
    "import scipy.optimize\n",
    "from sklearn import svm\n",
    "import numpy\n",
    "import string\n",
    "import random\n",
    "import string\n",
    "from sklearn import linear_model"
   ]
  },
  {
   "cell_type": "code",
   "execution_count": 721,
   "id": "005c1a02-c5bf-4241-8d00-dc260d36f08f",
   "metadata": {},
   "outputs": [],
   "source": [
    "def assertFloat(x):\n",
    "    assert type(float(x)) == float\n",
    "\n",
    "def assertFloatList(items, N):\n",
    "    assert len(items) == N\n",
    "    assert [type(float(x)) for x in items] == [float]*N"
   ]
  },
  {
   "cell_type": "code",
   "execution_count": 722,
   "id": "cb2abe72",
   "metadata": {},
   "outputs": [],
   "source": [
    "def readGz(path):\n",
    "    for l in gzip.open(path, 'rt'):\n",
    "        yield eval(l)"
   ]
  },
  {
   "cell_type": "code",
   "execution_count": 723,
   "id": "e54fa48f",
   "metadata": {},
   "outputs": [],
   "source": [
    "def readJSON(path):\n",
    "    f = gzip.open(path, 'rt')\n",
    "    f.readline()\n",
    "    for l in f:\n",
    "        d = eval(l)\n",
    "        u = d['userID']\n",
    "        g = d['gameID']\n",
    "        yield u,g,d"
   ]
  },
  {
   "cell_type": "code",
   "execution_count": 724,
   "id": "c215087c",
   "metadata": {},
   "outputs": [],
   "source": [
    "answers = {}"
   ]
  },
  {
   "cell_type": "code",
   "execution_count": 725,
   "id": "27aec54d",
   "metadata": {},
   "outputs": [],
   "source": [
    "# Some data structures that will be useful"
   ]
  },
  {
   "cell_type": "code",
   "execution_count": 726,
   "id": "e72d24da",
   "metadata": {},
   "outputs": [],
   "source": [
    "allHours = []\n",
    "for l in readJSON(\"train.json.gz\"):\n",
    "    allHours.append(l)"
   ]
  },
  {
   "cell_type": "code",
   "execution_count": 776,
   "id": "6903f584",
   "metadata": {},
   "outputs": [
    {
     "name": "stdout",
     "output_type": "stream",
     "text": [
      "('u70666506', 'g49368897', {'userID': 'u70666506', 'early_access': False, 'hours': 63.5, 'hours_transformed': 6.011227255423254, 'found_funny': 1, 'text': 'If you want to sit in queue for 10-20min and have 140 ping then this game is perfect for you :)', 'gameID': 'g49368897', 'user_id': '76561198030408772', 'date': '2017-05-20'})\n"
     ]
    }
   ],
   "source": [
    "print(allHours[0])"
   ]
  },
  {
   "cell_type": "code",
   "execution_count": 727,
   "id": "8050befe",
   "metadata": {},
   "outputs": [],
   "source": [
    "dataTrain = [(u, g) for u, g, _ in allHours[:165000]]\n",
    "dataValid = [(u, g, 1) for u, g, _ in allHours[165000:]]"
   ]
  },
  {
   "cell_type": "code",
   "execution_count": 728,
   "id": "c58fd9e5-0ba6-4fef-83c1-315503d75348",
   "metadata": {},
   "outputs": [],
   "source": [
    "##################################################\n",
    "# Play prediction                                #\n",
    "##################################################"
   ]
  },
  {
   "cell_type": "code",
   "execution_count": 729,
   "id": "4e06cc33-bc60-4b45-be63-8033c17d9fe6",
   "metadata": {},
   "outputs": [
    {
     "name": "stderr",
     "output_type": "stream",
     "text": [
      "/var/folders/jv/2nmp5ss10n7g89l5_hdgn2l40000gn/T/ipykernel_40287/2587455432.py:12: DeprecationWarning: Sampling from a set deprecated\n",
      "since Python 3.9 and will be removed in a subsequent version.\n",
      "  g = random.sample(allGames - playedByUser[u], 1)[0]\n"
     ]
    }
   ],
   "source": [
    "# Any other preprocessing...\n",
    "playedByUser = defaultdict(set)\n",
    "allGames = set()\n",
    "\n",
    "for u, g, _ in allHours:\n",
    "    playedByUser[u].add(g)\n",
    "    allGames.add(g)\n",
    "\n",
    "negDataValid = [None] * len(dataValid)\n",
    "for i in range(len(dataValid)):\n",
    "    u = dataValid[i][0]\n",
    "    g = random.sample(allGames - playedByUser[u], 1)[0]\n",
    "    playedByUser[u].add(g)\n",
    "    negDataValid[i] = (u, g, 0)\n",
    "\n",
    "dataValid += negDataValid"
   ]
  },
  {
   "cell_type": "code",
   "execution_count": 730,
   "id": "a3afb7eb",
   "metadata": {},
   "outputs": [],
   "source": [
    "gameCount = defaultdict(int)\n",
    "totalPlayed = 0\n",
    "\n",
    "for _, game in dataTrain:\n",
    "  gameCount[game] += 1\n",
    "  totalPlayed += 1\n",
    "\n",
    "mostPopular = [(gameCount[x], x) for x in gameCount]\n",
    "mostPopular.sort()\n",
    "mostPopular.reverse()"
   ]
  },
  {
   "cell_type": "code",
   "execution_count": 731,
   "id": "7d270a10",
   "metadata": {},
   "outputs": [],
   "source": [
    "gamesPerUser = defaultdict(set)\n",
    "usersPerGame = defaultdict(set)\n",
    "for user, game in dataTrain:\n",
    "    gamesPerUser[user].add(game)\n",
    "    usersPerGame[game].add(user)"
   ]
  },
  {
   "cell_type": "code",
   "execution_count": 732,
   "id": "12f46fd0-3abb-4f46-8a8b-9cf37efa99ee",
   "metadata": {},
   "outputs": [],
   "source": [
    "### Question 1"
   ]
  },
  {
   "cell_type": "code",
   "execution_count": 733,
   "id": "7aa30a66-0dcd-4f1f-beb0-a6ba473c9070",
   "metadata": {},
   "outputs": [],
   "source": [
    "# Evaluate baseline strategy\n",
    "\n",
    "def baseline_predict(dataValid, thresh):\n",
    "  popular = set()\n",
    "  count = 0\n",
    "  for ic, i in mostPopular:\n",
    "    count += ic\n",
    "    popular.add(i)\n",
    "    if count > totalPlayed * thresh: break\n",
    "\n",
    "  predictions = [0] * len(dataValid)\n",
    "  for i in range(len(dataValid)):\n",
    "    _, g = dataValid[i][0], dataValid[i][1]\n",
    "    predictions[i] = 1 if g in popular else 0\n",
    "  \n",
    "  return predictions"
   ]
  },
  {
   "cell_type": "code",
   "execution_count": 734,
   "id": "4aff63cc-3354-4189-8314-41a44a090609",
   "metadata": {},
   "outputs": [],
   "source": [
    "predictions = baseline_predict(dataValid, 0.5)\n",
    "accuracy = sum([x == y for x, y in zip(predictions, [z[2] for z in dataValid])]) / len(dataValid)"
   ]
  },
  {
   "cell_type": "code",
   "execution_count": 735,
   "id": "17cb78c4-5841-46a9-af75-cc347d4f39c0",
   "metadata": {},
   "outputs": [],
   "source": [
    "answers['Q1'] = accuracy"
   ]
  },
  {
   "cell_type": "code",
   "execution_count": 736,
   "id": "158deaa6-d294-4873-b10f-85f883d833d8",
   "metadata": {},
   "outputs": [],
   "source": [
    "assertFloat(answers['Q1'])"
   ]
  },
  {
   "cell_type": "code",
   "execution_count": 737,
   "id": "f843a2a7-57e5-4947-a513-ba8fa35f8cb6",
   "metadata": {},
   "outputs": [],
   "source": [
    "### Question 2"
   ]
  },
  {
   "cell_type": "code",
   "execution_count": 738,
   "id": "47c2b474-700f-4d37-be1b-3a704ad2968b",
   "metadata": {},
   "outputs": [],
   "source": [
    "# Improved strategy\n"
   ]
  },
  {
   "cell_type": "code",
   "execution_count": 739,
   "id": "6474d5ac-7dd0-4d62-b938-ec025bef55de",
   "metadata": {},
   "outputs": [],
   "source": [
    "# Evaluate baseline strategy\n",
    "thresholds = [x / 10 for x in range(1, 10)]\n",
    "bestPopAccuracy, bestPopThreshold = 0, None\n",
    "\n",
    "for thresh in thresholds:\n",
    "    predictions = baseline_predict(dataValid, thresh)\n",
    "    accuracy = sum([x == y for x, y in zip(predictions, [z[2] for z in dataValid])]) / len(dataValid)\n",
    "    if accuracy > bestPopAccuracy:\n",
    "        bestPopAccuracy = accuracy\n",
    "        bestPopThreshold = thresh"
   ]
  },
  {
   "cell_type": "code",
   "execution_count": 740,
   "id": "06a69839-1423-4160-80dc-451eccf6b82f",
   "metadata": {},
   "outputs": [],
   "source": [
    "answers['Q2'] = [bestPopAccuracy, bestPopThreshold]"
   ]
  },
  {
   "cell_type": "code",
   "execution_count": 741,
   "id": "44ddabf1-bf18-428d-91b2-82702133cfb1",
   "metadata": {},
   "outputs": [],
   "source": [
    "assertFloatList(answers['Q2'], 2)"
   ]
  },
  {
   "cell_type": "code",
   "execution_count": 742,
   "id": "8c5c5e95-1c35-4f00-9fac-5a1d3bec338b",
   "metadata": {},
   "outputs": [],
   "source": [
    "### Question 3/4"
   ]
  },
  {
   "cell_type": "code",
   "execution_count": 743,
   "id": "0e7cca75-8730-459c-ad27-d827d65856e2",
   "metadata": {},
   "outputs": [],
   "source": [
    "def Jaccard(s1, s2):\n",
    "    numer = len(s1.intersection(s2))\n",
    "    denom = len(s1.union(s2))\n",
    "    if denom == 0: return 0\n",
    "    return numer / denom\n",
    "\n",
    "def jaccard_predict(dataValid, thresh):\n",
    "    predictions = [0] * len(dataValid)\n",
    "    for i in range(len(dataValid)):\n",
    "        u, g, _ = dataValid[i]\n",
    "        bestSim = 0\n",
    "        for g_ in gamesPerUser[u]:\n",
    "            if g == g_: continue\n",
    "            bestSim = max(bestSim, Jaccard(usersPerGame[g], usersPerGame[g_]))\n",
    "        predictions[i] = 1 if bestSim > thresh else 0\n",
    "    \n",
    "    return predictions\n",
    "\n",
    "def jaccard_pop_predict(dataValid, threshJac, threshPop):\n",
    "    popular = set()\n",
    "    count = 0\n",
    "    for ic, i in mostPopular:\n",
    "        count += ic\n",
    "        popular.add(i)\n",
    "        if count > totalPlayed * threshPop: break\n",
    "\n",
    "    predictions = [0] * len(dataValid)\n",
    "    for i in range(len(dataValid)):\n",
    "        u, g, _ = dataValid[i]\n",
    "        if g not in popular: continue\n",
    "        bestSim = 0\n",
    "        for g_ in gamesPerUser[u]:\n",
    "            if g == g_: continue\n",
    "            bestSim = max(bestSim, Jaccard(usersPerGame[g], usersPerGame[g_]))\n",
    "        predictions[i] = 1 if bestSim > threshJac else 0\n",
    "    \n",
    "    return predictions"
   ]
  },
  {
   "cell_type": "code",
   "execution_count": 744,
   "id": "79bbb5d9",
   "metadata": {},
   "outputs": [
    {
     "name": "stdout",
     "output_type": "stream",
     "text": [
      "0.6744174417441744 0.03\n"
     ]
    }
   ],
   "source": [
    "thresholds = [x / 100 for x in range(1, 6)]\n",
    "bestJacAccuracy, bestJacThreshold = 0, None\n",
    "\n",
    "for thresh in thresholds:\n",
    "    predictions = jaccard_predict(dataValid, thresh)\n",
    "    accuracy = sum([x == y for x, y in zip(predictions, [z[2] for z in dataValid])]) / len(dataValid)\n",
    "    if accuracy > bestJacAccuracy:\n",
    "        bestJacAccuracy = accuracy\n",
    "        bestJacThreshold = thresh\n",
    "print(bestJacAccuracy, bestJacThreshold)"
   ]
  },
  {
   "cell_type": "code",
   "execution_count": 745,
   "id": "6180d5a7-fcaa-4208-9e2e-0babf0ab854d",
   "metadata": {},
   "outputs": [],
   "source": [
    "predictions = jaccard_predict(dataValid, bestJacThreshold)\n",
    "q3_accuracy = sum([x == y for x, y in zip(predictions, [z[2] for z in dataValid])]) / len(dataValid)\n",
    "\n",
    "predictions = jaccard_pop_predict(dataValid, bestJacThreshold, bestPopThreshold)\n",
    "q4_accuracy = sum([x == y for x, y in zip(predictions, [z[2] for z in dataValid])]) / len(dataValid)\n",
    "\n",
    "answers['Q3'] = q3_accuracy\n",
    "answers['Q4'] = q4_accuracy"
   ]
  },
  {
   "cell_type": "code",
   "execution_count": 746,
   "id": "6ac29b20-93d8-467e-9343-7363ae7c8071",
   "metadata": {},
   "outputs": [],
   "source": [
    "assertFloat(answers['Q3'])\n",
    "assertFloat(answers['Q4'])"
   ]
  },
  {
   "cell_type": "code",
   "execution_count": 747,
   "id": "e8af992f",
   "metadata": {},
   "outputs": [],
   "source": [
    "### Question 5"
   ]
  },
  {
   "cell_type": "code",
   "execution_count": 748,
   "id": "75f81286-487d-494a-8ee8-a42c1aca6eb7",
   "metadata": {},
   "outputs": [],
   "source": [
    "predictions = open(\"predictions_Played.csv\", 'w')\n",
    "for l in open(\"pairs_Played.csv\"):\n",
    "    if l.startswith(\"userID\"):\n",
    "        predictions.write(l)\n",
    "        continue\n",
    "    u, g = l.strip().split(',')\n",
    "    \n",
    "    bestSim = 0\n",
    "    for g_ in gamesPerUser[u]:\n",
    "        if g == g_: continue\n",
    "        bestSim = max(bestSim, Jaccard(usersPerGame[g], usersPerGame[g_]))\n",
    "    pred = 1 if bestSim > bestJacThreshold else 0\n",
    "    \n",
    "    _ = predictions.write(u + ',' + g + ',' + str(pred) + '\\n')\n",
    "\n",
    "predictions.close()"
   ]
  },
  {
   "cell_type": "code",
   "execution_count": 749,
   "id": "dbfd2cbf-b515-4f70-b613-e1248c5d6020",
   "metadata": {},
   "outputs": [],
   "source": [
    "answers['Q5'] = \"I confirm that I have uploaded an assignment submission to gradescope\""
   ]
  },
  {
   "cell_type": "code",
   "execution_count": 750,
   "id": "c82a7a00",
   "metadata": {},
   "outputs": [],
   "source": [
    "##################################################\n",
    "# Hours played prediction                        #\n",
    "##################################################"
   ]
  },
  {
   "cell_type": "code",
   "execution_count": 751,
   "id": "772dd561-ceae-4c2e-9347-7ba3eb2dd650",
   "metadata": {},
   "outputs": [],
   "source": [
    "hoursTrain = [(x, y, z['hours_transformed']) for (x, y, z) in allHours[:165000]]\n",
    "hoursValid = [(x, y, z['hours_transformed']) for (x, y, z) in allHours[165000:]]\n",
    "trainHours = [h for _, _, h in hoursTrain]\n",
    "globalAverage = sum(trainHours) / len(trainHours)"
   ]
  },
  {
   "cell_type": "code",
   "execution_count": 752,
   "id": "beddb1d9-e61b-4903-b557-f04810fd7c68",
   "metadata": {},
   "outputs": [],
   "source": [
    "hours = defaultdict()\n",
    "users, items = set(), set()\n",
    "usersPerItem, itemsPerUser = defaultdict(set), defaultdict(set)\n",
    "\n",
    "for u, i, h in hoursTrain:\n",
    "    hours[(u, i)] = h\n",
    "    users.add(u)\n",
    "    items.add(i)\n",
    "    usersPerItem[i].add(u)\n",
    "    itemsPerUser[u].add(i)"
   ]
  },
  {
   "cell_type": "code",
   "execution_count": 785,
   "id": "4b95a9e5-b36f-4883-befb-6dedfd833dcb",
   "metadata": {},
   "outputs": [],
   "source": [
    "### Question 6"
   ]
  },
  {
   "cell_type": "code",
   "execution_count": 786,
   "id": "c1683745",
   "metadata": {},
   "outputs": [],
   "source": [
    "alpha = globalAverage\n",
    "betaU = {u: 0 for u in users}\n",
    "betaI = {i: 0 for i in items}"
   ]
  },
  {
   "cell_type": "code",
   "execution_count": 787,
   "id": "ced4bf80-22e7-44eb-9efe-e2ec42f893bb",
   "metadata": {},
   "outputs": [],
   "source": [
    "def iterate(alpha, betaU, betaI, lamb):\n",
    "    alpha = sum([h - betaU[u] - betaI[i] for u, i, h in hoursTrain]) / len(hoursTrain)\n",
    "\n",
    "    for u in users:\n",
    "        betaU[u] = sum([hours[(u, i)] - alpha - betaI[i] for i in itemsPerUser[u]]) / (lamb + len(itemsPerUser[u]))\n",
    "    \n",
    "    for i in items:\n",
    "        betaI[i] = sum([hours[(u, i)] - alpha - betaU[u] for u in usersPerItem[i]]) / (lamb + len(usersPerItem[i]))\n",
    "    \n",
    "    return alpha, betaU, betaI\n"
   ]
  },
  {
   "cell_type": "code",
   "execution_count": 790,
   "id": "a4544f0f-39ac-4452-9180-baa378507201",
   "metadata": {},
   "outputs": [],
   "source": [
    "currMSE = float('inf')\n",
    "MSE_THRESH = 0.1\n",
    "LAMB = 0.01\n",
    "\n",
    "while True:\n",
    "    alpha, betaU, betaI = iterate(alpha, betaU, betaI, LAMB)\n",
    "    res = sum([(alpha + betaU[u] + betaI[i] - h)**2 for u, i, h in hoursTrain])\n",
    "    res += LAMB * (sum([betaU[u]**2 for u in betaU]) + sum([betaI[i]**2 for i in betaI]))\n",
    "    res /= len(hoursTrain)\n",
    "    if currMSE - res < MSE_THRESH: break\n",
    "    else: currMSE = res"
   ]
  },
  {
   "cell_type": "code",
   "execution_count": 791,
   "id": "6534a08d-013e-4353-a12c-b1f2bbed5812",
   "metadata": {},
   "outputs": [],
   "source": [
    "validMSE = sum([(alpha + betaU[u] + betaI[i] - h)**2 for u, i, h in hoursValid]) / len(hoursValid)\n",
    "answers['Q6'] = validMSE"
   ]
  },
  {
   "cell_type": "code",
   "execution_count": 792,
   "id": "bc0e3695-682b-4d65-9576-c59795d04930",
   "metadata": {},
   "outputs": [],
   "source": [
    "assertFloat(answers['Q6'])"
   ]
  },
  {
   "cell_type": "code",
   "execution_count": 793,
   "id": "d9d419e4-e8c4-4766-b189-d77fbe608417",
   "metadata": {},
   "outputs": [],
   "source": [
    "### Question 7"
   ]
  },
  {
   "cell_type": "code",
   "execution_count": 794,
   "id": "4a48cc70-1c2c-40df-9843-fea1f287a10e",
   "metadata": {},
   "outputs": [
    {
     "name": "stdout",
     "output_type": "stream",
     "text": [
      "Maximum betaU = u60898505 (6.291149718277626)\n",
      "Maximum betaI = g17604638 (4.95978077913233)\n",
      "Minimum betaU = u13037838 (-3.0493938535181924)\n",
      "Minimum betaI = g84397720 (-3.44310863380465)\n"
     ]
    }
   ],
   "source": [
    "betaUs = [(betaU[u], u) for u in betaU]\n",
    "betaIs = [(betaI[i], i) for i in betaI]\n",
    "betaUs.sort()\n",
    "betaIs.sort()\n",
    "\n",
    "print(\"Maximum betaU = \" + str(betaUs[-1][1]) + ' (' + str(betaUs[-1][0]) + ')')\n",
    "print(\"Maximum betaI = \" + str(betaIs[-1][1]) + ' (' + str(betaIs[-1][0]) + ')')\n",
    "print(\"Minimum betaU = \" + str(betaUs[0][1]) + ' (' + str(betaUs[0][0]) + ')')\n",
    "print(\"Minimum betaI = \" + str(betaIs[0][1]) + ' (' + str(betaIs[0][0]) + ')')"
   ]
  },
  {
   "cell_type": "code",
   "execution_count": 795,
   "id": "65b17529-ade3-4cdf-a5c1-b17b06e68237",
   "metadata": {},
   "outputs": [],
   "source": [
    "answers['Q7'] = [betaUs[-1][0], betaUs[0][0], betaIs[-1][0], betaIs[0][0]]"
   ]
  },
  {
   "cell_type": "code",
   "execution_count": 796,
   "id": "4eeaf180-3bd8-4acb-aef5-86b044521e56",
   "metadata": {},
   "outputs": [
    {
     "data": {
      "text/plain": [
       "[6.291149718277626, -3.0493938535181924, 4.95978077913233, -3.44310863380465]"
      ]
     },
     "execution_count": 796,
     "metadata": {},
     "output_type": "execute_result"
    }
   ],
   "source": [
    "answers['Q7']"
   ]
  },
  {
   "cell_type": "code",
   "execution_count": 763,
   "id": "7c9faa5c-2bc1-4d51-ae29-df2d82c9372d",
   "metadata": {},
   "outputs": [],
   "source": [
    "assertFloatList(answers['Q7'], 4)"
   ]
  },
  {
   "cell_type": "code",
   "execution_count": 764,
   "id": "c604fd19-2fb8-44bf-82b5-33797f534707",
   "metadata": {},
   "outputs": [],
   "source": [
    "### Question 8"
   ]
  },
  {
   "cell_type": "code",
   "execution_count": 765,
   "id": "30b8cbba-d0ec-46a6-b079-1c9a0e188971",
   "metadata": {},
   "outputs": [],
   "source": [
    "# Better lambda...\n",
    "lambdas = [0.0001, 0.001, 0.01, 0.1, 1, 10] \n",
    "bestLambda, bestMSE = None, float('inf')\n",
    "\n",
    "for lamb in lambdas:\n",
    "    currMSE = float('inf')\n",
    "    while True:\n",
    "        alpha, betaU, betaI = iterate(alpha, betaU, betaI, lamb)\n",
    "        res = sum([(alpha + betaU[u] + betaI[i] - h)**2 for u, i, h in hoursTrain])\n",
    "        res += lamb * (sum([betaU[u]**2 for u in betaU]) + sum([betaI[i]**2 for i in betaI]))\n",
    "        res /= len(hoursTrain)\n",
    "        if currMSE - res < MSE_THRESH: break\n",
    "        else: currMSE = res\n",
    "    if currMSE < bestMSE:\n",
    "        bestMSE = currMSE\n",
    "        bestLambda = lamb"
   ]
  },
  {
   "cell_type": "code",
   "execution_count": 766,
   "id": "b95c8e49-d120-4367-a20f-a39381776979",
   "metadata": {},
   "outputs": [],
   "source": [
    "answers['Q8'] = (bestLambda, bestMSE)"
   ]
  },
  {
   "cell_type": "code",
   "execution_count": 767,
   "id": "fe2dcb96-86a0-473e-980b-340435715ea8",
   "metadata": {},
   "outputs": [],
   "source": [
    "assertFloatList(answers['Q8'], 2)"
   ]
  },
  {
   "cell_type": "code",
   "execution_count": 768,
   "id": "08f94afd",
   "metadata": {},
   "outputs": [],
   "source": [
    "LAMB = bestLambda\n",
    "currMSE = float('inf')\n",
    "while True:\n",
    "    alpha, betaU, betaI = iterate(alpha, betaU, betaI, lamb)\n",
    "    res = sum([(alpha + betaU[u] + betaI[i] - h)**2 for u, i, h in hoursTrain])\n",
    "    res += lamb * (sum([betaU[u]**2 for u in betaU]) + sum([betaI[i]**2 for i in betaI]))\n",
    "    res /= len(hoursTrain)\n",
    "    if currMSE - res < MSE_THRESH: break\n",
    "    else: currMSE = res"
   ]
  },
  {
   "cell_type": "code",
   "execution_count": 784,
   "id": "90a7cd55-1f58-42a5-8c35-4debf80a3e3e",
   "metadata": {},
   "outputs": [],
   "source": [
    "predictions = open(\"predictions_Hours.csv\", 'w')\n",
    "user_pred = set()\n",
    "game_pred = set()\n",
    "for l in open(\"pairs_Hours.csv\"):\n",
    "    if l.startswith(\"userID\"):\n",
    "        predictions.write(l)\n",
    "        continue\n",
    "    u,g = l.strip().split(',')\n",
    "    \n",
    "    bu = betaU[u] if u in betaU else 0\n",
    "    bi = betaI[g] if g in betaI else 0\n",
    "    user_pred.add(u)\n",
    "    game_pred.add(g)\n",
    "    \n",
    "    _ = predictions.write(u + ',' + g + ',' + str(alpha + bu + bi) + '\\n')\n",
    "\n",
    "predictions.close()"
   ]
  },
  {
   "cell_type": "code",
   "execution_count": 770,
   "id": "c5fe92e3-3ab1-4858-858c-eeb732d964f6",
   "metadata": {},
   "outputs": [],
   "source": [
    "f = open(\"answers_hw3.txt\", 'w')\n",
    "f.write(str(answers) + '\\n')\n",
    "f.close()"
   ]
  },
  {
   "cell_type": "code",
   "execution_count": null,
   "id": "9676dc3e",
   "metadata": {},
   "outputs": [],
   "source": []
  }
 ],
 "metadata": {
  "kernelspec": {
   "display_name": "Python 3 (ipykernel)",
   "language": "python",
   "name": "python3"
  },
  "language_info": {
   "codemirror_mode": {
    "name": "ipython",
    "version": 3
   },
   "file_extension": ".py",
   "mimetype": "text/x-python",
   "name": "python",
   "nbconvert_exporter": "python",
   "pygments_lexer": "ipython3",
   "version": "3.10.9"
  }
 },
 "nbformat": 4,
 "nbformat_minor": 5
}
